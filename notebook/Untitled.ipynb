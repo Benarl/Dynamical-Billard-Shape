{
 "cells": [
  {
   "cell_type": "code",
   "execution_count": 13,
   "id": "c26a555e",
   "metadata": {},
   "outputs": [],
   "source": [
    "import numpy as np\n",
    "import shapely"
   ]
  },
  {
   "cell_type": "code",
   "execution_count": 65,
   "id": "db3b3dcd",
   "metadata": {},
   "outputs": [],
   "source": [
    "class ball:\n",
    "    def __init__(self, position=np.array([0,0]),angle=0):\n",
    "        self.bound_position = bound_position\n",
    "        self.angle = angle\n",
    "    \n",
    "    def line(self):\n",
    "        p2 = self.bound_position+[np.cos(angle), np.sin(angle)]\n",
    "        return LineString([self.bound_position,p2])"
   ]
  },
  {
   "cell_type": "code",
   "execution_count": 64,
   "id": "8a6bce90",
   "metadata": {},
   "outputs": [],
   "source": [
    "class billard:\n",
    "    def __init__(self, polygone=None, bounce=100):\n",
    "        if not polygone:\n",
    "            self.polygone = Polygon([[0, 0], [1, 0], [1, 1], [0, 1], [0, 0]]) \n",
    "        else:\n",
    "            self.polygone = polygone\n",
    "        self.bounce = bounce\n",
    "        self.trajectory = []\n",
    "        self.div = 20\n",
    "        \n",
    "    def launch(self, ball):\n",
    "        for b in range(bounce):\n",
    "            pass\n",
    "        \n",
    "    def intersect(self, line):\n",
    "        line.intersection(self.pol).xy"
   ]
  },
  {
   "cell_type": "code",
   "execution_count": 79,
   "id": "2ffa1230",
   "metadata": {},
   "outputs": [
    {
     "data": {
      "text/plain": [
       "(array('d', [1.0, 1.7071067811865475]), array('d', [1.0, 1.7071067811865475]))"
      ]
     },
     "execution_count": 79,
     "metadata": {},
     "output_type": "execute_result"
    }
   ],
   "source": [
    "def get_array(ls):\n",
    "    pass\n",
    "LineString([p1,p2]).xy"
   ]
  },
  {
   "cell_type": "code",
   "execution_count": 7,
   "id": "ee1ab473",
   "metadata": {},
   "outputs": [
    {
     "data": {
      "text/plain": [
       "array([0.        , 0.05263158, 0.10526316, 0.15789474, 0.21052632,\n",
       "       0.26315789, 0.31578947, 0.36842105, 0.42105263, 0.47368421,\n",
       "       0.52631579, 0.57894737, 0.63157895, 0.68421053, 0.73684211,\n",
       "       0.78947368, 0.84210526, 0.89473684, 0.94736842, 1.        ])"
      ]
     },
     "execution_count": 7,
     "metadata": {},
     "output_type": "execute_result"
    }
   ],
   "source": [
    "x = np.linspace(0, 1, 2)\n",
    "y = np.linspace(0, 1, 2)\n",
    "xvals = np.linspace(0, 1, 20)\n",
    "yinterp = np.interp(xvals, x, y)\n",
    "yinterp"
   ]
  },
  {
   "cell_type": "code",
   "execution_count": 56,
   "id": "3c1a2ee3",
   "metadata": {},
   "outputs": [
    {
     "data": {
      "text/plain": [
       "array([1., 0.])"
      ]
     },
     "execution_count": 56,
     "metadata": {},
     "output_type": "execute_result"
    }
   ],
   "source": [
    "np.array([0,0])+[np.cos(0), np.sin(0)]"
   ]
  },
  {
   "cell_type": "code",
   "execution_count": 41,
   "id": "4e1b0467",
   "metadata": {},
   "outputs": [
    {
     "data": {
      "text/plain": [
       "(array('d', [1.0, 1.7071067811865475]), array('d', [1.0, 1.7071067811865475]))"
      ]
     },
     "execution_count": 41,
     "metadata": {},
     "output_type": "execute_result"
    }
   ],
   "source": [
    "LineString([p1,p2]).xy"
   ]
  },
  {
   "cell_type": "code",
   "execution_count": 63,
   "id": "b33507d9",
   "metadata": {},
   "outputs": [
    {
     "data": {
      "text/plain": [
       "(array('d', [0.0, 1.0]), array('d', [0.0, 0.0]))"
      ]
     },
     "execution_count": 63,
     "metadata": {},
     "output_type": "execute_result"
    }
   ],
   "source": [
    "Lineslope([0,0],0).xy"
   ]
  },
  {
   "cell_type": "code",
   "execution_count": 94,
   "id": "ca513700",
   "metadata": {},
   "outputs": [],
   "source": [
    "def Lineslope(p1, angle):\n",
    "    p2 = np.array(p1)+[10*np.cos(angle), 10*np.sin(angle)]\n",
    "    return LineString([p1,p2])"
   ]
  },
  {
   "cell_type": "code",
   "execution_count": null,
   "id": "e2907e17",
   "metadata": {},
   "outputs": [],
   "source": [
    "def intersect(p1,angle,shape):\n",
    "    for i in range(len(shape))\n",
    "        a_shape = (shape[(i+1)%len(shape)][1]-shape[i%len(shape)][1])/(shape[(i+1)%len(shape)][0]-shape[i%len(shape)][0])\n",
    "        b_shape = shape[(i+1)%len(shape) - a * shape[i%len(shape)]\n",
    "        "
   ]
  },
  {
   "cell_type": "code",
   "execution_count": 23,
   "id": "581f84fb",
   "metadata": {},
   "outputs": [
    {
     "data": {
      "text/plain": [
       "(array('d', [0.0, 1.0]), array('d', [0.0, 1.0]))"
      ]
     },
     "execution_count": 23,
     "metadata": {},
     "output_type": "execute_result"
    }
   ],
   "source": [
    "from shapely.geometry import Polygon\n",
    "pol=Polygon([[0, 0], [1, 0], [1, 1], [0, 1], [0, 0]])\n",
    "from shapely.geometry import LineString\n",
    "\n",
    "line1 = LineString([(0,0),(1,1)])\n",
    "line1.intersection(pol).xy"
   ]
  },
  {
   "cell_type": "code",
   "execution_count": 95,
   "id": "fae08336",
   "metadata": {},
   "outputs": [
    {
     "data": {
      "text/plain": [
       "(array('d', [0.0, 7.0710678118654755]), array('d', [0.0, 7.0710678118654755]))"
      ]
     },
     "execution_count": 95,
     "metadata": {},
     "output_type": "execute_result"
    }
   ],
   "source": [
    "Lineslope([0,0],np.pi/4).xy"
   ]
  },
  {
   "cell_type": "code",
   "execution_count": 101,
   "id": "8fab10ee",
   "metadata": {},
   "outputs": [
    {
     "data": {
      "text/plain": [
       "(array('d', [0.0, 1.0]), array('d', [0.0, 0.0]))"
      ]
     },
     "execution_count": 101,
     "metadata": {},
     "output_type": "execute_result"
    }
   ],
   "source": [
    "Lineslope([0,0],0).intersection(pol).xy"
   ]
  },
  {
   "cell_type": "code",
   "execution_count": null,
   "id": "345402c4",
   "metadata": {},
   "outputs": [],
   "source": []
  }
 ],
 "metadata": {
  "kernelspec": {
   "display_name": "Python 3 (ipykernel)",
   "language": "python",
   "name": "python3"
  },
  "language_info": {
   "codemirror_mode": {
    "name": "ipython",
    "version": 3
   },
   "file_extension": ".py",
   "mimetype": "text/x-python",
   "name": "python",
   "nbconvert_exporter": "python",
   "pygments_lexer": "ipython3",
   "version": "3.7.3"
  }
 },
 "nbformat": 4,
 "nbformat_minor": 5
}
