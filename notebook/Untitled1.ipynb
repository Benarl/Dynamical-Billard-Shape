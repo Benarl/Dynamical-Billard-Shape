{
 "cells": [
  {
   "cell_type": "code",
   "execution_count": 94,
   "id": "43210b44",
   "metadata": {},
   "outputs": [],
   "source": [
    "import numpy as np\n",
    "from matplotlib import pyplot as plt"
   ]
  },
  {
   "cell_type": "code",
   "execution_count": 262,
   "id": "273c8b88",
   "metadata": {},
   "outputs": [],
   "source": [
    "class line:\n",
    "    def __init__(self, p1, p2, mode=\"finite\"):\n",
    "        self.p1 = p1\n",
    "        self.p2 = p2\n",
    "        self.mode = mode\n",
    "        if self.p1[0] == self.p2[0]:\n",
    "            if self.p1[1] == self.p2[1]:\n",
    "                self.a = 0\n",
    "                self.c = 1\n",
    "                self.b = 0\n",
    "            else:\n",
    "                self.c = 0\n",
    "                self.a = 1\n",
    "                self.b = self.p1[0]\n",
    "        elif self.p1[1] == self.p2[1]:\n",
    "            self.a = 0\n",
    "            self.c = 1\n",
    "            self.b = self.p1[1]\n",
    "        else:\n",
    "            self.a = (self.p2[1]-self.p1[1])/(self.p2[0]-self.p1[0])\n",
    "            self.b = self.p1[1]-self.a*self.p1[0]\n",
    "            self.c = 1\n",
    "        \n",
    "    def equation(self, p):\n",
    "        return self.c*p[1]-self.a*p[0]-self.b\n",
    "    \n",
    "    def isin(self, p):\n",
    "        cond_equation = self.equation(p) == 0\n",
    "        if self.mode == \"finite\":\n",
    "            cond_x = (self.p1[0]-p[0])*(self.p2[0]-p[0]) <= 0\n",
    "            cond_y = (self.p1[1]-p[1])*(self.p2[1]-p[1]) <= 0\n",
    "        elif self.mode == \"semi\":\n",
    "            cond_x = (self.p1[0]-p[0]) < 0\n",
    "            cond_y = (self.p1[1]-p[1]) < 0\n",
    "        return cond_equation and cond_x and cond_y\n",
    "    \n",
    "    def intersect(self, line):\n",
    "        p=[0,0]\n",
    "        if self.c * line.c > 0:\n",
    "            if self.a != line.a:\n",
    "                p[0] = (line.b - self.b)/(self.a-line.a)\n",
    "                p[1] = self.a*p[0]+self.b\n",
    "                print(\"p=\",p)\n",
    "                if self.isin(p) and line.isin(p):\n",
    "                    return p\n",
    "                else:\n",
    "                    return None\n",
    "            else:\n",
    "                return None\n",
    "        elif self.c == 0 and line.c != 0:\n",
    "            p[1] = line.b-self.b\n",
    "            p[0] = self.b\n",
    "        elif line.c == 0 and self.c != 0:\n",
    "            p[1] = self.b-line.b\n",
    "            p[0] = line.b\n",
    "        elif line.c == 0 and self.c == 0:\n",
    "            return None\n",
    "        \n",
    "    def print(self):\n",
    "        print(self.a, self.b, self.c)\n",
    "        "
   ]
  },
  {
   "cell_type": "code",
   "execution_count": 263,
   "id": "1b9c4ea7",
   "metadata": {},
   "outputs": [
    {
     "name": "stdout",
     "output_type": "stream",
     "text": [
      "1.0 0.0 1\n"
     ]
    },
    {
     "data": {
      "text/plain": [
       "False"
      ]
     },
     "execution_count": 263,
     "metadata": {},
     "output_type": "execute_result"
    }
   ],
   "source": [
    "d=line([3/4,3/4], [1/4,1/4])\n",
    "d.print()\n",
    "d.isin([0.76,0.76])"
   ]
  },
  {
   "cell_type": "code",
   "execution_count": 264,
   "id": "baacb8ca",
   "metadata": {},
   "outputs": [],
   "source": [
    "class billard:\n",
    "    def __init__(self, corners, position=np.array([0,0]),slope=[1,1]):\n",
    "        self.position = position\n",
    "        self.slope = slope\n",
    "        self.path = line(self.position, [self.position[0]+self.slope[0],self.position[1]+self.slope[1]], \"semi\")\n",
    "        self.corners = corners\n",
    "        self.line = []\n",
    "        self.bounce_line = None\n",
    "        self.bounces = [position]\n",
    "        for i in range(len(self.corners)):\n",
    "            self.line.append(line(self.corners[i%len(self.corners)], self.corners[(i+1)%len(self.corners)]))\n",
    "    \n",
    "    def plot(self):\n",
    "        xs, ys = zip(*(self.corners+[self.corners[0]]))\n",
    "        plt.plot(xs,ys)\n",
    "        xb, yb = zip(*self.bounces)\n",
    "        plt.plot(xb,yb)\n",
    "        \n",
    "    def bounce(self):\n",
    "        for l in self.line:\n",
    "            l.print()\n",
    "            intersection = self.path.intersect(l)\n",
    "            if intersection:\n",
    "                self.bounce_line=l\n",
    "                break\n",
    "        self.bounces.append(intersection)\n",
    "        self.position = intersection\n",
    "        if self.bounce_line.a == 0:\n",
    "            self.slope = [-self.slope[0], self.slope[1]]\n",
    "        else:\n",
    "            normal = -1/self.bounce_line.a \n",
    "            incident = self.slope[1]/self.slope[0]\n",
    "            reflected = reflect(incident, normal)\n",
    "            self.slope = [1,reflected]\n",
    "        self.path = line(self.position, self.slope)\n",
    "    \n",
    "    def reflect(k1,k2):\n",
    "        return (k1*k2*k2+2*k2-k1)/(1+2*k1*k2-k2*k2)\n",
    "    "
   ]
  },
  {
   "cell_type": "code",
   "execution_count": 265,
   "id": "b7d442d3",
   "metadata": {},
   "outputs": [
    {
     "data": {
      "text/plain": [
       "[<matplotlib.lines.Line2D at 0x23c744942e8>]"
      ]
     },
     "execution_count": 265,
     "metadata": {},
     "output_type": "execute_result"
    },
    {
     "data": {
      "image/png": "[encoded data removed]",
      "text/plain": [
       "<Figure size 432x288 with 1 Axes>"
      ]
     },
     "metadata": {
      "needs_background": "light"
     },
     "output_type": "display_data"
    }
   ],
   "source": [
    "c=[[0,0], [0,1], [1,1], [1,0]]\n",
    "cd=[[0,0], [1,1], [0,0.8], [1,0.2]]\n",
    "xs, ys = zip(*(c+[c[0]]))\n",
    "xsd, ysd = zip(*(cd+[cd[0]]))\n",
    "plt.plot(xs,ys)\n",
    "plt.plot(xsd,ysd)"
   ]
  },
  {
   "cell_type": "code",
   "execution_count": 266,
   "id": "33591aa6",
   "metadata": {},
   "outputs": [],
   "source": [
    "b=billard([[0,0], [0,1], [1,1], [1,0]], position=[0,0], slope=[1,0.8])"
   ]
  },
  {
   "cell_type": "code",
   "execution_count": 267,
   "id": "26a217f2",
   "metadata": {},
   "outputs": [
    {
     "name": "stdout",
     "output_type": "stream",
     "text": [
      "1 0 0\n",
      "0 1 1\n",
      "p= [1.25, 1.0]\n",
      "1 1 0\n",
      "0 0 1\n",
      "p= [0.0, 0.0]\n"
     ]
    },
    {
     "ename": "AttributeError",
     "evalue": "'NoneType' object has no attribute 'a'",
     "output_type": "error",
     "traceback": [
      "\u001b[1;31m---------------------------------------------------------------------------\u001b[0m",
      "\u001b[1;31mAttributeError\u001b[0m                            Traceback (most recent call last)",
      "\u001b[1;32m~\\AppData\\Local\\Temp/ipykernel_12672/3278647304.py\u001b[0m in \u001b[0;36m<module>\u001b[1;34m\u001b[0m\n\u001b[1;32m----> 1\u001b[1;33m \u001b[0mb\u001b[0m\u001b[1;33m.\u001b[0m\u001b[0mbounce\u001b[0m\u001b[1;33m(\u001b[0m\u001b[1;33m)\u001b[0m\u001b[1;33m\u001b[0m\u001b[1;33m\u001b[0m\u001b[0m\n\u001b[0m",
      "\u001b[1;32m~\\AppData\\Local\\Temp/ipykernel_12672/4007882723.py\u001b[0m in \u001b[0;36mbounce\u001b[1;34m(self)\u001b[0m\n\u001b[0;32m     26\u001b[0m         \u001b[0mself\u001b[0m\u001b[1;33m.\u001b[0m\u001b[0mbounces\u001b[0m\u001b[1;33m.\u001b[0m\u001b[0mappend\u001b[0m\u001b[1;33m(\u001b[0m\u001b[0mintersection\u001b[0m\u001b[1;33m)\u001b[0m\u001b[1;33m\u001b[0m\u001b[1;33m\u001b[0m\u001b[0m\n\u001b[0;32m     27\u001b[0m         \u001b[0mself\u001b[0m\u001b[1;33m.\u001b[0m\u001b[0mposition\u001b[0m \u001b[1;33m=\u001b[0m \u001b[0mintersection\u001b[0m\u001b[1;33m\u001b[0m\u001b[1;33m\u001b[0m\u001b[0m\n\u001b[1;32m---> 28\u001b[1;33m         \u001b[1;32mif\u001b[0m \u001b[0mself\u001b[0m\u001b[1;33m.\u001b[0m\u001b[0mbounce_line\u001b[0m\u001b[1;33m.\u001b[0m\u001b[0ma\u001b[0m \u001b[1;33m==\u001b[0m \u001b[1;36m0\u001b[0m\u001b[1;33m:\u001b[0m\u001b[1;33m\u001b[0m\u001b[1;33m\u001b[0m\u001b[0m\n\u001b[0m\u001b[0;32m     29\u001b[0m             \u001b[0mself\u001b[0m\u001b[1;33m.\u001b[0m\u001b[0mslope\u001b[0m \u001b[1;33m=\u001b[0m \u001b[1;33m[\u001b[0m\u001b[1;33m-\u001b[0m\u001b[0mself\u001b[0m\u001b[1;33m.\u001b[0m\u001b[0mslope\u001b[0m\u001b[1;33m[\u001b[0m\u001b[1;36m0\u001b[0m\u001b[1;33m]\u001b[0m\u001b[1;33m,\u001b[0m \u001b[0mself\u001b[0m\u001b[1;33m.\u001b[0m\u001b[0mslope\u001b[0m\u001b[1;33m[\u001b[0m\u001b[1;36m1\u001b[0m\u001b[1;33m]\u001b[0m\u001b[1;33m]\u001b[0m\u001b[1;33m\u001b[0m\u001b[1;33m\u001b[0m\u001b[0m\n\u001b[0;32m     30\u001b[0m         \u001b[1;32melse\u001b[0m\u001b[1;33m:\u001b[0m\u001b[1;33m\u001b[0m\u001b[1;33m\u001b[0m\u001b[0m\n",
      "\u001b[1;31mAttributeError\u001b[0m: 'NoneType' object has no attribute 'a'"
     ]
    }
   ],
   "source": [
    "b.bounce()"
   ]
  },
  {
   "cell_type": "code",
   "execution_count": 268,
   "id": "4080f59d",
   "metadata": {},
   "outputs": [],
   "source": [
    "l1=line([1,0], [1,1])\n",
    "l2=line([0,0], [1,0.8], \"semi\")\n",
    "l2.intersect(l1)\n"
   ]
  },
  {
   "cell_type": "code",
   "execution_count": 250,
   "id": "a10f881c",
   "metadata": {},
   "outputs": [
    {
     "name": "stdout",
     "output_type": "stream",
     "text": [
      "p= [1.25, 1.0]\n",
      "p= [0.0, 0.0]\n"
     ]
    },
    {
     "ename": "AttributeError",
     "evalue": "'NoneType' object has no attribute 'a'",
     "output_type": "error",
     "traceback": [
      "\u001b[1;31m---------------------------------------------------------------------------\u001b[0m",
      "\u001b[1;31mAttributeError\u001b[0m                            Traceback (most recent call last)",
      "\u001b[1;32m~\\AppData\\Local\\Temp/ipykernel_12672/3278647304.py\u001b[0m in \u001b[0;36m<module>\u001b[1;34m\u001b[0m\n\u001b[1;32m----> 1\u001b[1;33m \u001b[0mb\u001b[0m\u001b[1;33m.\u001b[0m\u001b[0mbounce\u001b[0m\u001b[1;33m(\u001b[0m\u001b[1;33m)\u001b[0m\u001b[1;33m\u001b[0m\u001b[1;33m\u001b[0m\u001b[0m\n\u001b[0m",
      "\u001b[1;32m~\\AppData\\Local\\Temp/ipykernel_12672/3022908759.py\u001b[0m in \u001b[0;36mbounce\u001b[1;34m(self)\u001b[0m\n\u001b[0;32m     25\u001b[0m         \u001b[0mself\u001b[0m\u001b[1;33m.\u001b[0m\u001b[0mbounces\u001b[0m\u001b[1;33m.\u001b[0m\u001b[0mappend\u001b[0m\u001b[1;33m(\u001b[0m\u001b[0mintersection\u001b[0m\u001b[1;33m)\u001b[0m\u001b[1;33m\u001b[0m\u001b[1;33m\u001b[0m\u001b[0m\n\u001b[0;32m     26\u001b[0m         \u001b[0mself\u001b[0m\u001b[1;33m.\u001b[0m\u001b[0mposition\u001b[0m \u001b[1;33m=\u001b[0m \u001b[0mintersection\u001b[0m\u001b[1;33m\u001b[0m\u001b[1;33m\u001b[0m\u001b[0m\n\u001b[1;32m---> 27\u001b[1;33m         \u001b[1;32mif\u001b[0m \u001b[0mself\u001b[0m\u001b[1;33m.\u001b[0m\u001b[0mbounce_line\u001b[0m\u001b[1;33m.\u001b[0m\u001b[0ma\u001b[0m \u001b[1;33m==\u001b[0m \u001b[1;36m0\u001b[0m\u001b[1;33m:\u001b[0m\u001b[1;33m\u001b[0m\u001b[1;33m\u001b[0m\u001b[0m\n\u001b[0m\u001b[0;32m     28\u001b[0m             \u001b[0mself\u001b[0m\u001b[1;33m.\u001b[0m\u001b[0mslope\u001b[0m \u001b[1;33m=\u001b[0m \u001b[1;33m[\u001b[0m\u001b[1;33m-\u001b[0m\u001b[0mself\u001b[0m\u001b[1;33m.\u001b[0m\u001b[0mslope\u001b[0m\u001b[1;33m[\u001b[0m\u001b[1;36m0\u001b[0m\u001b[1;33m]\u001b[0m\u001b[1;33m,\u001b[0m \u001b[0mself\u001b[0m\u001b[1;33m.\u001b[0m\u001b[0mslope\u001b[0m\u001b[1;33m[\u001b[0m\u001b[1;36m1\u001b[0m\u001b[1;33m]\u001b[0m\u001b[1;33m]\u001b[0m\u001b[1;33m\u001b[0m\u001b[1;33m\u001b[0m\u001b[0m\n\u001b[0;32m     29\u001b[0m         \u001b[1;32melse\u001b[0m\u001b[1;33m:\u001b[0m\u001b[1;33m\u001b[0m\u001b[1;33m\u001b[0m\u001b[0m\n",
      "\u001b[1;31mAttributeError\u001b[0m: 'NoneType' object has no attribute 'a'"
     ]
    }
   ],
   "source": [
    "b.bounce()"
   ]
  },
  {
   "cell_type": "code",
   "execution_count": 249,
   "id": "1e0aeeda",
   "metadata": {},
   "outputs": [
    {
     "data": {
      "image/png": "[encoded data removed]",
      "text/plain": [
       "<Figure size 432x288 with 1 Axes>"
      ]
     },
     "metadata": {
      "needs_background": "light"
     },
     "output_type": "display_data"
    }
   ],
   "source": [
    "b.plot()"
   ]
  },
  {
   "cell_type": "code",
   "execution_count": null,
   "id": "1af78173",
   "metadata": {},
   "outputs": [],
   "source": []
  }
 ],
 "metadata": {
  "kernelspec": {
   "display_name": "Python 3 (ipykernel)",
   "language": "python",
   "name": "python3"
  },
  "language_info": {
   "codemirror_mode": {
    "name": "ipython",
    "version": 3
   },
   "file_extension": ".py",
   "mimetype": "text/x-python",
   "name": "python",
   "nbconvert_exporter": "python",
   "pygments_lexer": "ipython3",
   "version": "3.7.3"
  }
 },
 "nbformat": 4,
 "nbformat_minor": 5
}
